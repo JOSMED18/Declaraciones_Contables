{
 "cells": [
  {
   "cell_type": "markdown",
   "metadata": {},
   "source": [
    "# ETL para construcción de funciones de la APP"
   ]
  },
  {
   "cell_type": "code",
   "execution_count": 1,
   "metadata": {},
   "outputs": [],
   "source": [
    "# Importando librerías\n",
    "import pandas as pd \n",
    "from openpyxl import load_workbook"
   ]
  },
  {
   "cell_type": "code",
   "execution_count": null,
   "metadata": {},
   "outputs": [],
   "source": [
    "df_iva = pd.read_excel(\"IVA.xlsx\", names= ['Numero RUC', 'Nombre y Apellido o Razon Social', 'Numero Documento',\n",
    "       'Descripcion del Pago', 'Fecha de Emision de Documento',\n",
    "       'Ingreso sin IVA', 'Monto IVA Trasladado', 'Codigo Renglon'], engine=\"openpyxl\")\n",
    "df_iva.head()\n"
   ]
  },
  {
   "cell_type": "markdown",
   "metadata": {},
   "source": [
    "### Verificación de RUC"
   ]
  },
  {
   "cell_type": "code",
   "execution_count": 5,
   "metadata": {},
   "outputs": [],
   "source": [
    "def RucVerification (df):\n",
    "    df_RUC = df.copy()\n",
    "    df_RUC[\"Has14\"] = df_RUC[\"Numero RUC\"].map(len)!=14.00 # Cada RUC debe tener 14 carácteres\n",
    "    df_result = df_RUC[df_RUC[\"Has14\"] == True].drop([\"Has14\"],axis=1) # Filtra el dataframe para mostrar los registros que no tengan 14 caracteres\n",
    "    result = None\n",
    "    if df_result.empty:\n",
    "        result = \"Todos los campos del RUC tienen los 14 caracteres\" # Resultado si las filas están correctas\n",
    "    else:\n",
    "        result = df_result # Resultado si las filas no están correctas\n",
    "    \n",
    "    return result\n"
   ]
  },
  {
   "cell_type": "markdown",
   "metadata": {},
   "source": [
    "### Verificación de Número de Documento"
   ]
  },
  {
   "cell_type": "code",
   "execution_count": 8,
   "metadata": {},
   "outputs": [],
   "source": [
    "df_docnumber = df_iva.copy()\n",
    "\n",
    "df_docnumber[\"DocEsNo\"] = pd.to_numeric(df_iva[\"Numero Documento\"], errors='coerce').isnull()\n"
   ]
  },
  {
   "cell_type": "code",
   "execution_count": null,
   "metadata": {},
   "outputs": [],
   "source": [
    "df_docnumber[df_docnumber[\"DocEsNo\"] == True].drop(\"DocEsNo\", axis=1)"
   ]
  },
  {
   "cell_type": "code",
   "execution_count": 13,
   "metadata": {},
   "outputs": [],
   "source": [
    "def DocumentVerification (df):\n",
    "    \n",
    "    \n",
    "    df_docnumber  = df.copy()\n",
    "    df_docnumber[\"DocEsNo\"] = pd.to_numeric(df[\"Numero Documento\"], errors='coerce').isnull() \n",
    "    df_result = df_docnumber[df_docnumber[\"DocEsNo\"] == True].drop(\"DocEsNo\", axis=1)\n",
    "    \n",
    "\n",
    "    if df_result.empty:\n",
    "        result = \"Los documentos no contienen letras\" # Resultado si las filas están correctas\n",
    "    else:\n",
    "        result = df_result # Resultado si las filas no están correctas\n",
    "    \n",
    "    return result"
   ]
  },
  {
   "cell_type": "markdown",
   "metadata": {},
   "source": [
    "### Verificacion de Fecha"
   ]
  },
  {
   "cell_type": "code",
   "execution_count": 1,
   "metadata": {},
   "outputs": [],
   "source": [
    "def DateVerification (df):\n",
    "    df_date = df.copy()\n",
    "    \n",
    "    def is_date(value):\n",
    "        try:\n",
    "            pd.to_datetime(value,errors='raise')\n",
    "            return True\n",
    "        except ValueError:\n",
    "            return False\n",
    "\n",
    "    df_date[\"is_date\"] = df_date[\"Fecha de Emision de Documento\"].apply(is_date)\n",
    "    df_date[\"Fecha de Emision de Documento\"] = pd.to_datetime(df_date[\"Fecha de Emision de Documento\"], errors='coerce')\n",
    "    df_date[\"Año\"] = df_date[\"Fecha de Emision de Documento\"].dt.year\n",
    "    df_result = df_date[(df_date[\"Año\"] != pd.Timestamp.today().year) | \n",
    "                        (df_date[\"is_date\"] == False)].drop(\"Año\", axis = 1)\n",
    "    result = df_result\n",
    "\n",
    "    return result"
   ]
  },
  {
   "cell_type": "code",
   "execution_count": null,
   "metadata": {},
   "outputs": [],
   "source": [
    "DateVerification(df_iva)"
   ]
  },
  {
   "cell_type": "markdown",
   "metadata": {},
   "source": [
    "### Verificación de Monto e IVA"
   ]
  },
  {
   "cell_type": "markdown",
   "metadata": {},
   "source": [
    "#### Monto Verificación"
   ]
  },
  {
   "cell_type": "code",
   "execution_count": 53,
   "metadata": {},
   "outputs": [],
   "source": [
    "ws = load_workbook(\"IVA.xlsx\", data_only=False).active\n",
    "data = list(ws.values)\n",
    "df_monto = pd.DataFrame(data[1:], columns=data[0])"
   ]
  },
  {
   "cell_type": "code",
   "execution_count": 12,
   "metadata": {},
   "outputs": [],
   "source": [
    "def VerificacionFormula (file):\n",
    "    \n",
    "    #Sub-función para rastrear formulas \n",
    "    def contains_equal (celda):\n",
    "        return '=' in str(celda)\n",
    "    \n",
    "    #Leyendo el archivo con el motor Openpyxl para captar las celdas con formulas\n",
    "    ws = load_workbook(file, data_only=False).active\n",
    "    data = list(ws.values)\n",
    "    df_monto = pd.DataFrame(data[1:], columns=data[0])\n",
    "\n",
    "    df_bool = df_monto.applymap(contains_equal)\n",
    "    df_result = df_monto[df_bool.any(axis=1)]\n",
    "\n",
    "    result = None\n",
    "\n",
    "    if df_result.empty:\n",
    "        result = \"Ninguna celda en el archivo tiene fórmulas ✅\"\n",
    "    else:\n",
    "        result = df_result[df_result.columns[:8]]\n",
    "\n",
    "    return result\n",
    "\n",
    "    "
   ]
  },
  {
   "cell_type": "code",
   "execution_count": null,
   "metadata": {},
   "outputs": [],
   "source": [
    "VerificacionFormula(\"IVA.xlsx\")"
   ]
  },
  {
   "cell_type": "markdown",
   "metadata": {},
   "source": [
    "#### IVA Verificación"
   ]
  },
  {
   "cell_type": "code",
   "execution_count": 24,
   "metadata": {},
   "outputs": [],
   "source": [
    "def VerificacionIVA (df):\n",
    "    df_calculation = df\n",
    "    df_calculation[\"Calculo IVA\"] = round(df_calculation[\"Monto IVA Trasladado\"]/df_calculation[\"Ingreso sin IVA\"],2)\n",
    "    df_calculation[\"% Calculo IVA\"] = (df_calculation[\"Calculo IVA\"] * 100).astype(str) + '%'\n",
    "    df_result = df_calculation[df_calculation[\"Calculo IVA\"] != 0.15].drop(\"Calculo IVA\",axis=1)\n",
    "\n",
    "    if df_result.empty:\n",
    "        result = \"El IVA está calculado correctamente (15% del monto) ✅\"\n",
    "    else:\n",
    "        result = df_result\n",
    "\n",
    "    return result"
   ]
  },
  {
   "cell_type": "code",
   "execution_count": null,
   "metadata": {},
   "outputs": [],
   "source": [
    "VerificacionIVA(df_iva)"
   ]
  },
  {
   "cell_type": "markdown",
   "metadata": {},
   "source": [
    "### Codigo Renglon Verificación"
   ]
  },
  {
   "cell_type": "code",
   "execution_count": 23,
   "metadata": {},
   "outputs": [],
   "source": [
    "def VerificacionCodigo (df):\n",
    "    df_codigo = df.copy()\n",
    "    df_codigo[\"Verificacion\"] = df_codigo[\"Descripcion del Pago\"] + df_codigo[\"Codigo Renglon\"].astype(str)\n",
    "    df_result = df_codigo[~df_codigo[\"Verificacion\"].isin([\"Compra11\",\"Servicios13\"])]\n",
    "\n",
    "\n",
    "    result = None\n",
    "\n",
    "    if df_result.empty:\n",
    "        result = \"Los codigos y descripciones coinciden ✅\"\n",
    "    else:\n",
    "        result = df_result\n",
    "\n",
    "    return result\n",
    "\n",
    "    \n",
    "\n"
   ]
  },
  {
   "cell_type": "code",
   "execution_count": null,
   "metadata": {},
   "outputs": [],
   "source": [
    "VerificacionCodigo(df_iva)"
   ]
  }
 ],
 "metadata": {
  "kernelspec": {
   "display_name": "Python 3",
   "language": "python",
   "name": "python3"
  },
  "language_info": {
   "codemirror_mode": {
    "name": "ipython",
    "version": 3
   },
   "file_extension": ".py",
   "mimetype": "text/x-python",
   "name": "python",
   "nbconvert_exporter": "python",
   "pygments_lexer": "ipython3",
   "version": "3.11.5"
  }
 },
 "nbformat": 4,
 "nbformat_minor": 2
}
